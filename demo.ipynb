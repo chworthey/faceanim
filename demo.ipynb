{
  "nbformat": 4,
  "nbformat_minor": 0,
  "metadata": {
    "colab": {
      "name": "first-order-model-demo",
      "provenance": [],
      "include_colab_link": true
    },
    "kernelspec": {
      "name": "python3",
      "display_name": "Python 3"
    },
    "accelerator": "GPU"
  },
  "cells": [
    {
      "cell_type": "markdown",
      "metadata": {
        "id": "view-in-github",
        "colab_type": "text"
      },
      "source": [
        "<a href=\"https://colab.research.google.com/github/ptrick/faceanim/blob/main/demo.ipynb\" target=\"_parent\"><img src=\"https://colab.research.google.com/assets/colab-badge.svg\" alt=\"Open In Colab\"/></a>"
      ]
    },
    {
      "cell_type": "code",
      "metadata": {
        "id": "UCMFMJV7K-ag"
      },
      "source": [
        "!pip install ffmpy &> /dev/null\n",
        "!git init -q .\n",
        "!git remote add origin https://github.com/ptrick/first-order-model\n",
        "!git pull -q origin master"
      ],
      "execution_count": 2,
      "outputs": []
    },
    {
      "cell_type": "code",
      "metadata": {
        "id": "mkpXHav2zI-N"
      },
      "source": [
        "import IPython.display\n",
        "import PIL.Image\n",
        "import cv2\n",
        "import imageio\n",
        "import io\n",
        "import numpy\n",
        "import os.path\n",
        "import requests\n",
        "import skimage.transform\n",
        "import warnings\n",
        "from base64 import b64encode\n",
        "from demo import load_checkpoints, make_animation\n",
        "from ffmpy import FFmpeg\n",
        "from google.colab import files, output\n",
        "from skimage import img_as_ubyte\n",
        "warnings.filterwarnings(\"ignore\")\n",
        "\n",
        "img_path = \"input/image.png\"\n",
        "vid_path = \"input/input.mp4\"\n",
        "\n",
        "\n",
        "def select_image(filename):\n",
        "  return resize(PIL.Image.open(filename).convert(\"RGB\"))\n",
        "\n",
        "\n",
        "def resize(image, size=(256, 256)):\n",
        "  w, h = image.size\n",
        "  d = min(w, h)\n",
        "  r = ((w - d) // 2, (h - d) // 2, (w + d) // 2, (h + d) // 2)\n",
        "  return image.resize(size, resample=PIL.Image.LANCZOS, box=r)\n",
        "\n",
        "\n",
        "def generate():\n",
        "  filename = 'vox-cpk.pth.tar'\n",
        "  if not os.path.isfile(filename):\n",
        "    download = requests.get(requests.get(\n",
        "        'https://cloud-api.yandex.net/v1/disk/public/resources/download?public_key=https://yadi.sk/d/lEw8uRm140L_eQ&path=/' + filename).json().get('href'))\n",
        "    with open(filename, 'wb') as checkpoint:\n",
        "      checkpoint.write(download.content)\n",
        "  reader = imageio.get_reader(vid_path, mode='I', format='FFMPEG')\n",
        "  fps = reader.get_meta_data()['fps']\n",
        "  driving_video = []\n",
        "  for frame in reader:\n",
        "    driving_video.append(frame)\n",
        "  generator, kp_detector = load_checkpoints(\n",
        "      config_path='config/vox-256.yaml', checkpoint_path=filename)\n",
        "  predictions = make_animation(\n",
        "    skimage.transform.resize(numpy.asarray(select_image(img_path)), (256, 256)),\n",
        "    [skimage.transform.resize(frame, (256, 256)) for frame in driving_video],\n",
        "    generator,\n",
        "    kp_detector,\n",
        "    relative=relative.value,\n",
        "    adapt_movement_scale=adapt_movement_scale.value)\n",
        "  imageio.mimsave('temp.mp4', [img_as_ubyte(frame) for frame in predictions], fps=fps)\n",
        "  FFmpeg(inputs={'temp.mp4': None, selected_video: None}, outputs={'output.mp4': '-c copy -y'}).run()\n"
      ],
      "execution_count": 10,
      "outputs": []
    },
    {
      "cell_type": "code",
      "metadata": {
        "id": "2f3tvrsZ5jQz",
        "outputId": "eeac71ea-5639-4eb0-c2b3-5b8143b58268",
        "colab": {
          "base_uri": "https://localhost:8080/"
        }
      },
      "source": [
        "generate()"
      ],
      "execution_count": null,
      "outputs": [
        {
          "output_type": "stream",
          "name": "stderr",
          "text": [
            "WARNING:root:Warning: the frame size for reading (1080, 1920) is different from the source frame size (1920, 1080).\n"
          ]
        }
      ]
    }
  ]
}